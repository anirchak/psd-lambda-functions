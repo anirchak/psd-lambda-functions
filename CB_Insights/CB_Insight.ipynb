{
 "cells": [
  {
   "cell_type": "markdown",
   "metadata": {},
   "source": [
    "## **This script helps to pull data from companies from various sectors/industries and save it into a file**"
   ]
  },
  {
   "cell_type": "code",
   "execution_count": 31,
   "metadata": {},
   "outputs": [],
   "source": [
    "from selenium import webdriver\n",
    "from selenium.webdriver.common.by import By\n",
    "from bs4 import BeautifulSoup\n",
    "\n",
    "from selenium.webdriver.support import expected_conditions as EC\n",
    "from selenium.webdriver.support.wait import WebDriverWait\n",
    "\n",
    "import time\n",
    "import pandas as pd\n",
    "import pprint\n",
    "\n",
    "from IPython.display import clear_output"
   ]
  },
  {
   "attachments": {},
   "cell_type": "markdown",
   "metadata": {},
   "source": [
    "## Constants and Definition of Functions"
   ]
  },
  {
   "cell_type": "markdown",
   "metadata": {},
   "source": [
    "`wait()` and `long_wait()` used to make the program wait so the webpage will load and the next steps will be executed fine"
   ]
  },
  {
   "cell_type": "code",
   "execution_count": 32,
   "metadata": {},
   "outputs": [],
   "source": [
    "def wait():\n",
    "    time.sleep(3)\n",
    "def long_wait():\n",
    "    time.sleep(10)"
   ]
  },
  {
   "cell_type": "code",
   "execution_count": 33,
   "metadata": {},
   "outputs": [],
   "source": [
    "empty_item = \"na\" #used as the default value for empty cells of data, can also be np.nan\n",
    "\n",
    "# No longer needed, can be used for testing\n",
    "'''\n",
    "firm_names_file = \"CB_Insight_Firms.xlsx\"\n",
    "firm_names = pd.read_excel(firm_names_file, sheet_name=\"Firms\", header=0)[\"Firm\"].tolist()\n",
    "firm_names[0]\n",
    "'''\n",
    "\n",
    "#Items to add is the types (columns) of data to be collected for each company \n",
    "good_items_to_add = \"URL, Total Funding, Description, Total Headcount, Country, Sector, Industry, Sub-Industry, Latest Valuation\"\n",
    "items_to_add = good_items_to_add.split(\", \")\n",
    "#Data column names is the name of all columns for the data\n",
    "data_column_names = items_to_add.copy(); data_column_names.insert(0, \"Company Name\"); data_column_names.insert(0, \"Search Input\")\n",
    "print(data_column_names); wait(); clear_output()\n",
    "\n",
    "#Sector columns is the types (columns) of data to be collected for each sector\n",
    "sector_columns_str = \"Sector, No. Companies, Total Funding (Pre-Exit/IPO)\"\n",
    "sector_columns = sector_columns_str.split(\", \")\n",
    "print(sector_columns); wait(); clear_output()"
   ]
  },
  {
   "cell_type": "markdown",
   "metadata": {},
   "source": [
    "`remove_criteria()`:  \n",
    "remove all the possible criterias  \n",
    "\n",
    "`add_criteria()`:  \n",
    "add all the columns and types of values for the companies that you want (edit from `items_to_add`)  \n",
    "\n",
    "`filter_columns()`:  \n",
    "1. click on button to change the columns shown  \n",
    "2. `remove_criteria()` to remove all the columns  \n",
    "3. `add_criteria()` to add wanted columns in the order stated\n",
    "3. click on button to apply change in columns"
   ]
  },
  {
   "cell_type": "code",
   "execution_count": 34,
   "metadata": {},
   "outputs": [],
   "source": [
    "def remove_criteria(driver):\n",
    "    all_items_remove = \"Connect, URL, Description, Company Status, Company ID, Organization ID, Founded Year, All People, \"\\\n",
    "    \"Total Headcount, Market Cap, Stock Price, Stock Price (1 week % change), Latest Revenue, Latest Revenue Multiple, \"\\\n",
    "    \"Mosaic (Overall), Mosaic (Momentum), Mosaic (Money), Mosaic (Market), Mosaic (Management), Competitors, Parent Company, \"\\\n",
    "    \"Subsidiaries, Sector, Industry, Sub-Industry, Market Reports, Team Tag, Country, Continent, State, City, Street, ZIP Code, \"\\\n",
    "    \"Total Funding, All Investors, Latest Exit Round, Acquirer, VC Backed, Latest Funding Investors, \"\\\n",
    "    \"Latest Funding Simplified Round, Latest Funding Amount, Latest Funding Date, Latest Funding Round, Date of Exit, \"\\\n",
    "    \"Latest Valuation, Your Collections, Expert Collections, Total Headcount, Total Funding, Latest Valuation\"\n",
    "    all_items_to_remove = all_items_remove.split(\", \"); remove_string_postfix = \"-staged-column-remove-button\"\n",
    "    items_not_found = []\n",
    "    for item in all_items_to_remove:\n",
    "        try: \n",
    "            btn = driver.find_element(By.XPATH, f\"//button[@data-test='{item}{remove_string_postfix}']\"); btn.click()\n",
    "        except:\n",
    "            items_not_found.append(item)\n",
    "    # print(items_not_found)\n",
    "def add_criteria(driver):\n",
    "    for item in items_to_add:\n",
    "        try:\n",
    "            btn = driver.find_element(By.XPATH, f\"//button[@data-test='{item}-column-button']\")\n",
    "            btn.click()\n",
    "        except:\n",
    "            print(f\"{btn} not found\")\n",
    "def filter_columns(driver):\n",
    "    add_btn = WebDriverWait(driver, 10).until(\n",
    "        EC.element_to_be_clickable((By.XPATH, \"//button[@title='Add Column']\"))\n",
    "    ) #1\n",
    "    add_btn.click(); wait()\n",
    "\n",
    "    remove_criteria(driver); wait() #2\n",
    "    add_criteria(driver); wait() #3\n",
    "    \n",
    "    apply_btn = driver.find_element(By.XPATH, \"//button[@data-test='columns-modal-done-button']\")\n",
    "    apply_btn.click()\n",
    "    wait()"
   ]
  },
  {
   "cell_type": "markdown",
   "metadata": {},
   "source": [
    "`close_cookie()`:  \n",
    "wait for up to 10 seconds for the cookie button to appear and close it, else print \"Cookie button not found\"  \n",
    "\n",
    "`login()`:  \n",
    "click on the relevant buttons to help to login, else print \"Login not successful\"\n",
    "\n",
    "\n",
    "`setup()`:  \n",
    "1. declares any options for the driver if needed\n",
    "2. go to the site\n",
    "3. maximise the window to ensure everything that needs to be seen can be seen\n",
    "4. `close_cookie()`, then proceed to login\n",
    "5. change search to advanced search to see the entire output\n",
    "6. `filter_columns()`\n",
    "7. change search outputs to be sorted by funding from High to Low\n",
    "8. return the driver after all these are done"
   ]
  },
  {
   "cell_type": "code",
   "execution_count": 35,
   "metadata": {},
   "outputs": [],
   "source": [
    "def close_cookie(driver):\n",
    "    try:\n",
    "        close_btn = WebDriverWait(driver, 10).until(\n",
    "            EC.element_to_be_clickable((\n",
    "            By.XPATH, \"//button[@id='pendo-close-guide-75f328f5']\"))\n",
    "        )\n",
    "        close_btn.click()\n",
    "        wait()\n",
    "    except:\n",
    "        print(\"Cookie button not found\")\n",
    "def login(driver):\n",
    "    CB_USERNAME = \"YAP_Hui_Keng@imda.gov.sg\"; CB_PASSWORD = \"1mda12345\"\n",
    "    try:\n",
    "        email_btn = WebDriverWait(driver, 10).until(\n",
    "            EC.element_to_be_clickable((By.XPATH, \"//input[@placeholder='Enter your email address']\"))\n",
    "        )\n",
    "        email_btn.click(); \n",
    "        email_btn.send_keys(CB_USERNAME)\n",
    "        continue_btn = driver.find_element(By.XPATH, \"//span[text()='Continue']\")\n",
    "        continue_btn.click()\n",
    "        \n",
    "        password_btn = WebDriverWait(driver, 10).until(\n",
    "            EC.element_to_be_clickable((By.XPATH, \"//input[@placeholder='Enter your password']\"))\n",
    "        )\n",
    "        password_btn.click(); \n",
    "        password_btn.send_keys(CB_PASSWORD)\n",
    "        continue_btn = driver.find_element(By.XPATH, \"//span[text()='Log in']\")\n",
    "        continue_btn.click()\n",
    "        wait(); wait()\n",
    "    except:\n",
    "        print(\"Login not successful\")\n",
    "def setup():\n",
    "    options = webdriver.ChromeOptions()\n",
    "    # headless means that the browser will not be displayed when running the code\n",
    "    options.add_argument('--headless')\n",
    "\n",
    "    driver = webdriver.Chrome()#options=options) time.sleep(10)\n",
    "    driver.get(\"https://app.cbinsights.com/i/emerging-tech\")\n",
    "    driver.maximize_window() #; long_wait()\n",
    "\n",
    "    close_cookie(driver)\n",
    "    login(driver)\n",
    "\n",
    "    advanced_search_btn = WebDriverWait(driver, 10).until(\n",
    "        EC.element_to_be_clickable((By.XPATH, \"//button[@data-testid='advanced-search-button']\"))\n",
    "    )\n",
    "    advanced_search_btn.click() #; long_wait()\n",
    "\n",
    "    filter_columns(driver)\n",
    "\n",
    "    funding_dropdown_btn = driver.find_element(By.XPATH, \"//div[@data-rbd-drag-handle-draggable-id='Total Funding']\").find_elements(By.CLASS_NAME, \"flexItem--shrink\")[1]\n",
    "    funding_dropdown_btn.click()\n",
    "    wait()\n",
    "\n",
    "    desc_btn = driver.find_elements(By.XPATH, \"//span[@data-test='High to low']\")\n",
    "    desc_btn[0].click()\n",
    "    \n",
    "    return driver"
   ]
  },
  {
   "cell_type": "markdown",
   "metadata": {},
   "source": [
    "`search(company)`: (legacy, used in the past but not anymore)  \n",
    "clear any prior search inputs and search for `company`"
   ]
  },
  {
   "cell_type": "code",
   "execution_count": 36,
   "metadata": {},
   "outputs": [],
   "source": [
    "def search(company, driver):\n",
    "    try:\n",
    "        clear_input_btn = driver.find_element(By.XPATH, \"//span[@data-testid='pointer']\")\n",
    "        clear_input_btn.click()\n",
    "    except:\n",
    "        pass\n",
    "    search_field = driver.find_element(By.XPATH, \"//input[@id='topSearchInput']\")\n",
    "    search_field.click()\n",
    "    search_field.send_keys(company)\n",
    "    wait()\n",
    "\n",
    "    search_btn = driver.find_element(By.XPATH, \"//button[@data-testid='search-button']\")\n",
    "    search_btn.click()\n",
    "    long_wait()"
   ]
  },
  {
   "cell_type": "markdown",
   "metadata": {},
   "source": [
    "`save_table(df, company)`:  \n",
    "takes the table from the html and uses `BeautifulSoup` to parse and save the information from the table and save it into `df`  \n",
    "`company` is the thing that was used to search - to check back on the input/search item  \n",
    "**make sure to uncomment the last line of code to save data** - currently have a big file that took 3hrs to scrape \n",
    "\n",
    "`save_sector_data(df, industry)`:  \n",
    "scrapes the information from the site to get the funding data by sector/industry, saving `industry` and funding into `df`\n",
    "\n",
    "`save_all_tables(df, company, iterations=400)`:  \n",
    "`save_table()` for every page, up until the next button is unclickable/400 pages (limit of 10 000 companies per search, 25 companies a page, 400 pages)  \n",
    "`iterations` can be changed to reduce number if pages of data scraped"
   ]
  },
  {
   "cell_type": "code",
   "execution_count": 37,
   "metadata": {},
   "outputs": [],
   "source": [
    "def save_table(df, company, driver):\n",
    "    table_element = driver.find_elements(By.CLASS_NAME, \"client-reusable-Table-___styles__maxContent___wQTEa\")\n",
    "    table_webpage = table_element[1]\n",
    "    table_html = table_webpage.get_attribute('outerHTML')\n",
    "    bs = BeautifulSoup(table_html, \"html.parser\")\n",
    "\n",
    "    table = bs.find_all(\"div\", {\"class\": \"client-modules-top-search-components-TableView-___styles__rowWrapper___WLBoH\"})\n",
    "\n",
    "    for row_html in table:\n",
    "        row = row_html.find_all(\"div\", {\"class\": \"flex-0\"})\n",
    "        row_insert = {}; row_insert['Search Input'] = company\n",
    "\n",
    "        for index in range(1, len(row)-1):\n",
    "            item = row[index].text\n",
    "            text_insert = item if item else empty_item\n",
    "            row_insert[data_column_names[index]] = text_insert\n",
    "\n",
    "        df.loc[len(df)] = row_insert\n",
    "    # df.to_csv('CBI_Firm_Data.csv', index=False)\n",
    "def save_sector_data(df, industry, driver):\n",
    "    row_insert = {}\n",
    "    row_insert[sector_columns[0]] = industry\n",
    "    \n",
    "    info = driver.find_element(By.CLASS_NAME, \"shadow-sm\").find_elements(By.XPATH, \"./div\")[0]\n",
    "    funding = info.text.split(\"Total Funding\")[0].split(\"|\")[1]\n",
    "    num_companies = info.text.split(\" \")[0]\n",
    "\n",
    "    row_insert[sector_columns[1]] = num_companies\n",
    "    row_insert[sector_columns[2]] = funding\n",
    "\n",
    "    df.loc[len(df)] = row_insert\n",
    "def save_all_tables(df, company, driver, iterations=400):\n",
    "\n",
    "    save_table(df, company, driver)\n",
    "    next_btn = driver.find_element(By.XPATH, \"//div[@data-test='Pagebar-Next']\").find_element(By.XPATH, \"..\")\n",
    "    \n",
    "    count = 1\n",
    "    while next_btn.is_enabled():   \n",
    "        if count >= iterations:\n",
    "            # used to ensure it doesnt go past 400 pages (2nd failsafe, up to 10 000 members), 1 run had 10 025 for electronics sector\n",
    "            break \n",
    "        if not count % 10:\n",
    "            clear_output()\n",
    "            print(count, company)\n",
    "        next_btn.click()\n",
    "        wait()\n",
    "        save_table(df, company, driver)\n",
    "        count += 1\n"
   ]
  },
  {
   "cell_type": "markdown",
   "metadata": {},
   "source": [
    "## Start of Logic"
   ]
  },
  {
   "cell_type": "markdown",
   "metadata": {},
   "source": [
    "**Rerun this cell for testing to clear the dataframes**\n",
    "\n",
    "`pp`: `PrettyPrinter` used to debug and view items nicely (in lines and nested)  \n",
    "`df`: pandas `DataFrame` used to hold all company data  \n",
    "`sector_df`: pandas `DataFrame` used to hold sector funding data  \n",
    "`lst_industries`: currently the list of sectors that we are scraping data from for sectors and companies in that sector"
   ]
  },
  {
   "cell_type": "code",
   "execution_count": 38,
   "metadata": {},
   "outputs": [],
   "source": [
    "pp = pprint.PrettyPrinter()\n",
    "df = pd.DataFrame(columns=data_column_names)\n",
    "sector_df = pd.DataFrame(columns=sector_columns)\n",
    "print(df, sector_df); wait(); clear_output() #used to show that both dfs has been refreshed and have nothing\n",
    "\n",
    "lst_industries = ['Computer Hardware & Services', \n",
    "                  'Electronics', \n",
    "                  'Media (Traditional)', \n",
    "                  'Internet', \n",
    "                  'Mobile & Telecommunications', \n",
    "                  'Software (non-internet/mobile)']"
   ]
  },
  {
   "cell_type": "markdown",
   "metadata": {},
   "source": [
    "Logic:  \n",
    "1. Setup the driver/browser \n",
    "2. Click and open up `Industries`\n",
    "3. For every sector/industry in `lst_industries`:  \n",
    "        - Scrape the funding data of the sector/industry  \n",
    "        - Scrape the data of companies of every page unless otherwise specified (eg. `iterations=3`)  \n",
    "        - Save the data into the file if it has been unabled (on top under `save_table()`)"
   ]
  },
  {
   "cell_type": "code",
   "execution_count": null,
   "metadata": {},
   "outputs": [],
   "source": [
    "TIME_START = time.time()\n",
    "\n",
    "driver = setup()\n",
    "\n",
    "industries_dropdown_btn = driver.find_element(By.XPATH, \"//button[@data-test='filter-section-open-Industries']\")\n",
    "industries_dropdown_btn.click()\n",
    "wait()\n",
    "\n",
    "for industry in lst_industries:\n",
    "    industry_selector_btn = driver.find_element(By.XPATH, \"//button[@data-test='tree-filter-popover-trigger-Industries']\")\n",
    "    industry_selector_btn.click()\n",
    "    wait()\n",
    "\n",
    "    btn = driver.find_element(By.XPATH, f\"//span[text()='{industry}']\")\n",
    "    btn.click()\n",
    "    wait()\n",
    "    \n",
    "    save_sector_data(sector_df, industry, driver)\n",
    "    save_all_tables(df, industry, driver, iterations=3)\n",
    "\n",
    "    clear_industry_btn = driver.find_element(By.XPATH, \"//button[@data-test='Industries-on-clear']\")\n",
    "    clear_industry_btn.click()\n",
    "\n",
    "\n",
    "TIME_END = time.time()\n",
    "TIME_TAKEN = TIME_END - TIME_START\n",
    "print(f\"Execution time: {TIME_TAKEN:.2f} seconds\")\n",
    "print(sector_df)\n",
    "print(df)"
   ]
  },
  {
   "cell_type": "markdown",
   "metadata": {},
   "source": [
    "## DEBUGGING"
   ]
  },
  {
   "cell_type": "code",
   "execution_count": 373,
   "metadata": {},
   "outputs": [
    {
     "name": "stdout",
     "output_type": "stream",
     "text": [
      "6\n",
      "60025\n",
      "0\n",
      "Sector\n",
      "Electronics                       10025\n",
      "Computer Hardware & Services      10000\n",
      "Media (Traditional)               10000\n",
      "Internet                          10000\n",
      "Mobile & Telecommunications       10000\n",
      "Software (non-internet/mobile)    10000\n",
      "Name: count, dtype: int64\n"
     ]
    }
   ],
   "source": [
    "item = \"Sector\"\n",
    "\n",
    "lst = df[item].to_list()\n",
    "print(len(set(lst)))\n",
    "print(len(lst))\n",
    "print(lst.count(\"na\"))\n",
    "# print(lst.value)\n",
    "print(df[item].value_counts())"
   ]
  },
  {
   "cell_type": "markdown",
   "metadata": {},
   "source": [
    "### Get no. of companies and total funding"
   ]
  },
  {
   "cell_type": "code",
   "execution_count": 255,
   "metadata": {},
   "outputs": [
    {
     "name": "stdout",
     "output_type": "stream",
     "text": [
      "39148\n",
      "$172.27B \n"
     ]
    }
   ],
   "source": [
    "info = driver.find_element(By.CLASS_NAME, \"shadow-sm\").find_elements(By.XPATH, \"./div\")[0]\n",
    "fun = info.text.split(\"Total Funding\")[0].split(\"|\")[1]\n",
    "num = info.text.split(\" \")[0]\n",
    "print(num); print(fun)"
   ]
  },
  {
   "attachments": {},
   "cell_type": "markdown",
   "metadata": {},
   "source": [
    "## APPENDIX - May or may not be useful in the future"
   ]
  },
  {
   "cell_type": "code",
   "execution_count": null,
   "metadata": {},
   "outputs": [],
   "source": [
    "ALL_ITEMS_ADD_CRITERIA = \"Connect, URL, Description, Company Status, Company ID, Organization ID, Founded Year, All People, \\\n",
    "Total Headcount, Market Cap, Stock Price, Stock Price (1 week % change), Latest Revenue, Latest Revenue Multiple, \\\n",
    "Mosaic Overall, Momentum, Money, Market, Management, Competitors, Parent Company, Subsidiaries, \\\n",
    "Sector, Industry, Sub-Industry, Market Reports, Team Tag, Country, Continent, State, City, Street, ZIP Code, \\\n",
    "Total Funding, All Investors, Latest Exit Round, Exit Date, Acquirer, VC Backed, Round, Date, Amount, \\\n",
    "Simplified Round, Investors, Latest Valuation, Your Collections, Expert Collections\""
   ]
  }
 ],
 "metadata": {
  "kernelspec": {
   "display_name": "venv",
   "language": "python",
   "name": "python3"
  },
  "language_info": {
   "codemirror_mode": {
    "name": "ipython",
    "version": 3
   },
   "file_extension": ".py",
   "mimetype": "text/x-python",
   "name": "python",
   "nbconvert_exporter": "python",
   "pygments_lexer": "ipython3",
   "version": "3.10.11"
  },
  "orig_nbformat": 4
 },
 "nbformat": 4,
 "nbformat_minor": 2
}
